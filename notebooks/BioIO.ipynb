{
 "cells": [
  {
   "cell_type": "markdown",
   "id": "68bd822b-4377-49c1-a171-37a2cfb26ce7",
   "metadata": {},
   "source": [
    "# Reading images using BioIO\n",
    "\n",
    "As mentioned in a previous section, using the [scikit-image](https://scikit-image.org/) offers the ability to read images in some formats but it has its limitations in terms of the formats it can read or how it can handle metadata e.g. the dimension order of an image with more than three dimensions.\n",
    "\n",
    "[BioIO](https://github.com/bioio-devs/bioio) can read many various image formats e.g. OME-TIFF, PNG, ND2, but **only** when paired with the appropriate plug-in for the image format. It also offers a bridge with the Bio-Formats library. "
   ]
  },
  {
   "cell_type": "markdown",
   "id": "ee7895b2-51af-4e9f-904c-23bb6b8cdd9b",
   "metadata": {},
   "source": [
    "## Launch\n",
    "This notebook uses the [environment_python.yml](./envs/environment_python.yml) file. See [Set up environment](SoftwarePackagesIntro.ipynb) for more details."
   ]
  },
  {
   "cell_type": "markdown",
   "id": "0c68861a-b516-4dcd-8d03-61b2b141d4d7",
   "metadata": {},
   "source": [
    "\n",
    "## Reading nd2 \n",
    "\n",
    "When working with microscopy image data, many file formats are used such as the nd2 format. In this notebook, we will open a Nikon NIS-Elements ND2 (extension``.nd2``) file.\n",
    "\n",
    "First we need to install the BioIO plug-in to read the ``.nd2`` format.\n",
    "\n",
    "We will in following cells install [bioio-nd2](https://pypi.org/project/bioio-nd2/) plugin from [PyPI](https://pypi.org)."
   ]
  },
  {
   "cell_type": "markdown",
   "id": "5524c668-3ecf-41fd-8529-9af6639dc0ac",
   "metadata": {},
   "source": [
    "### Read the file\n",
    "\n",
    "We will download the file from the publicly available data samples and read it using BioIO library.\n",
    "\n",
    "Run the following cell only when in Google Colab."
   ]
  },
  {
   "cell_type": "code",
   "execution_count": null,
   "id": "b5313442",
   "metadata": {},
   "outputs": [],
   "source": [
    "! pip install bioio==1.2.0 scikit-image==0.22.0"
   ]
  },
  {
   "cell_type": "code",
   "execution_count": null,
   "id": "78489741",
   "metadata": {},
   "outputs": [],
   "source": [
    "!wget /content/sample_data/test.nd2 https://downloads.openmicroscopy.org/images/ND2/aryeh/MeOh_high_fluo_011.nd2"
   ]
  },
  {
   "cell_type": "code",
   "execution_count": null,
   "id": "c123beeb-ec2d-476e-8eb2-22ca203b777d",
   "metadata": {},
   "outputs": [],
   "source": [
    "from bioio import BioImage\n",
    "import bioio_nd2\n",
    "\n",
    "img = BioImage(\"/content/MeOh_high_fluo_011.nd2\", reader=bioio_nd2.Reader)"
   ]
  },
  {
   "cell_type": "markdown",
   "id": "c7c64ee6-24f4-42cb-8db2-68438b2d8e4b",
   "metadata": {},
   "source": [
    "Return the dimension order. This information **woul not be** available when using scikit-image only."
   ]
  },
  {
   "cell_type": "code",
   "execution_count": 4,
   "id": "bdf874e4-1b07-40b1-a46b-d98acb0b2a8d",
   "metadata": {},
   "outputs": [
    {
     "data": {
      "text/plain": [
       "'TCZYX'"
      ]
     },
     "execution_count": 4,
     "metadata": {},
     "output_type": "execute_result"
    }
   ],
   "source": [
    "img.dims.order"
   ]
  },
  {
   "cell_type": "markdown",
   "id": "87eebb25-a43c-42e4-b225-f1ca038ef929",
   "metadata": {},
   "source": [
    "These formats usually have extra dimensions to accomodate many different data shapes. This is their common order when working with nd2 files:\n",
    "\n",
    "* 'C': Channel or wavelength\n",
    "* 'T': Time\n",
    "* 'X': Width\n",
    "* 'Y': Height\n",
    "* 'Z': Slice (depth) or number of Z-sections\n",
    "* 'R': Rotation\n",
    "* 'S': Scene: contiguous regions of interest in a mosaic image"
   ]
  },
  {
   "cell_type": "code",
   "execution_count": 5,
   "id": "0ce15f46-7ccc-4cb0-9ad4-8f3309e707bd",
   "metadata": {},
   "outputs": [
    {
     "data": {
      "text/plain": [
       "32751"
      ]
     },
     "execution_count": 5,
     "metadata": {},
     "output_type": "execute_result"
    }
   ],
   "source": [
    "# Return size of X dimension \n",
    "img.dims.X"
   ]
  },
  {
   "cell_type": "code",
   "execution_count": 6,
   "id": "faa0dd91-4ab9-4421-86c8-dd2d41a4363b",
   "metadata": {},
   "outputs": [
    {
     "data": {
      "text/plain": [
       "['EGFP']"
      ]
     },
     "execution_count": 6,
     "metadata": {},
     "output_type": "execute_result"
    }
   ],
   "source": [
    "# Return the name of the channels\n",
    "img.channel_names"
   ]
  },
  {
   "cell_type": "code",
   "execution_count": 7,
   "id": "fadb6427-4853-42e4-9e36-b972235712bc",
   "metadata": {},
   "outputs": [
    {
     "data": {
      "text/plain": [
       "0.3444225755520869"
      ]
     },
     "execution_count": 7,
     "metadata": {},
     "output_type": "execute_result"
    }
   ],
   "source": [
    "# Return the physical size X\n",
    "img.physical_pixel_sizes.X "
   ]
  },
  {
   "cell_type": "markdown",
   "id": "7f7f1d43-0bce-430e-8823-3807eb2bd00a",
   "metadata": {},
   "source": [
    "### Exercise 1:\n",
    " * Check the size and physical size along Y."
   ]
  },
  {
   "cell_type": "code",
   "execution_count": 7,
   "id": "6ee1e243-96cb-42b9-a08f-097310569614",
   "metadata": {},
   "outputs": [
    {
     "data": {
      "text/plain": [
       "(1, 1, 1, 20684, 32751)"
      ]
     },
     "execution_count": 7,
     "metadata": {},
     "output_type": "execute_result"
    }
   ],
   "source": [
    "# Return the size of the numpy array\n",
    "img.shape"
   ]
  },
  {
   "cell_type": "code",
   "execution_count": 8,
   "id": "d238d6c3-dfb2-4b05-9f15-f49b7f942bbb",
   "metadata": {},
   "outputs": [
    {
     "data": {
      "text/plain": [
       "array([[[[[0, 0, 0, ..., 0, 0, 0],\n",
       "          [0, 0, 0, ..., 0, 0, 0],\n",
       "          [0, 0, 0, ..., 0, 0, 0],\n",
       "          ...,\n",
       "          [0, 0, 0, ..., 0, 0, 0],\n",
       "          [0, 0, 0, ..., 0, 0, 0],\n",
       "          [0, 0, 0, ..., 0, 0, 0]]]]], dtype=uint16)"
      ]
     },
     "execution_count": 8,
     "metadata": {},
     "output_type": "execute_result"
    }
   ],
   "source": [
    "# Access the 5D numpy array\n",
    "img.data"
   ]
  },
  {
   "cell_type": "code",
   "execution_count": 17,
   "id": "58bd2a49-6936-443c-a97e-d4a3a448ed57",
   "metadata": {},
   "outputs": [
    {
     "data": {
      "text/plain": [
       "(1, 1, 20684, 32751)"
      ]
     },
     "execution_count": 17,
     "metadata": {},
     "output_type": "execute_result"
    }
   ],
   "source": [
    "# Return 4D CZYX numpy array\n",
    "data = img.get_image_data(\"CZYX\", T=0)\n",
    "data.shape\n",
    "\n",
    "# Return 3D ZYX numpy array\n",
    "data = img.get_image_data(\"ZYX\", T=0, C=0)\n",
    "data.shape"
   ]
  },
  {
   "cell_type": "markdown",
   "id": "745a78b5-1396-450d-a00e-6fef33d18778",
   "metadata": {},
   "source": [
    "### Exercise 2:\n",
    "* Create a 2D YX numpy array and display it using the matplotlib library"
   ]
  },
  {
   "cell_type": "markdown",
   "id": "193ff070-a03d-4048-b7be-054c6d042cac",
   "metadata": {},
   "source": [
    "You can find more information about the CZI file"
   ]
  },
  {
   "cell_type": "code",
   "execution_count": 12,
   "id": "e925bfff-9af9-489a-9091-c42a9cd4447c",
   "metadata": {
    "jupyter": {
     "source_hidden": true
    },
    "scrolled": true
   },
   "outputs": [
    {
     "data": {
      "text/plain": [
       "('ScanRegion0',)"
      ]
     },
     "execution_count": 12,
     "metadata": {},
     "output_type": "execute_result"
    }
   ],
   "source": [
    "# Get the id of the current operating scene. In our case we only have one scene\n",
    "img.current_scene\n",
    "\n",
    "# Get a list valid scene ids\n",
    "img.scenes"
   ]
  },
  {
   "cell_type": "markdown",
   "id": "230c2f97-2d0f-49e0-b408-091fa64ba184",
   "metadata": {},
   "source": [
    "## Save the image\n",
    "\n",
    "When analysing data, it is often useful to save the result image.\n",
    "You usually cannot save it in the original format.\n",
    "\n",
    "* saving the result as a ``png`` or ``jpeg`` is only useful if you wish to insert the image in a presentation for example.\n",
    "* If you wish to re-use the result image, we recommend to save it in the ``OME-TIFF`` format.\n",
    "  \n",
    "The BioIO library has a method to the save the image as OME-TIFF."
   ]
  },
  {
   "cell_type": "code",
   "execution_count": null,
   "id": "83a3bb75-3e14-47ae-b9e4-8790ab66b567",
   "metadata": {},
   "outputs": [],
   "source": [
    "# Save the image as OME-TIFF\n",
    "img.save(\"MeOh_high_fluo_011.nd2.ome.tiff\")"
   ]
  },
  {
   "cell_type": "markdown",
   "id": "ccbd1fb4-16ad-4d63-ae48-f91c420a6b0e",
   "metadata": {},
   "source": [
    "### Exercise 3:\n",
    "\n",
    "* Install the required dependencies in the environment to read a ``.lif`` file.\n",
    "* Read the ``lif`` image from [imagesc-30856](https://downloads.openmicroscopy.org/images/Leica-LIF/imagesc-30856/).\n",
    "* Print out the shape of the array and the dimensions order\n",
    "* Display the first 2D-plane using the matplotlib package"
   ]
  },
  {
   "cell_type": "markdown",
   "id": "a5ada571-3550-431b-b830-5a9f842cd1dc",
   "metadata": {},
   "source": [
    "## Common problem\n",
    "It is common to try to view the data in a given library and the file is not supported. In that case, you need to think about converting the data to be able to do so."
   ]
  }
 ],
 "metadata": {
  "kernelspec": {
   "display_name": "imaging_course",
   "language": "python",
   "name": "imaging_course"
  },
  "language_info": {
   "codemirror_mode": {
    "name": "ipython",
    "version": 3
   },
   "file_extension": ".py",
   "mimetype": "text/x-python",
   "name": "python",
   "nbconvert_exporter": "python",
   "pygments_lexer": "ipython3",
   "version": "3.10.16"
  }
 },
 "nbformat": 4,
 "nbformat_minor": 5
}
