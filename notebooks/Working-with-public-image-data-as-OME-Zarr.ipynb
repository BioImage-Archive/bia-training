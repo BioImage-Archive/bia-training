{
 "cells": [
  {
   "cell_type": "markdown",
   "id": "96529d68",
   "metadata": {},
   "source": [
    "# Working with public image data as OME-Zarr"
   ]
  },
  {
   "cell_type": "markdown",
   "id": "039f74b8",
   "metadata": {},
   "source": [
    "## Setup"
   ]
  },
  {
   "cell_type": "markdown",
   "id": "a94a0cf3",
   "metadata": {},
   "source": [
    "## What is OME-Zarr and why is it important?"
   ]
  },
  {
   "cell_type": "markdown",
   "id": "25f44a90",
   "metadata": {},
   "source": [
    "Through this exercise, we'll show how a common format and access mechanism allows us to explore data from multiple public data resources in a consistent way."
   ]
  },
  {
   "cell_type": "markdown",
   "id": "91748c76",
   "metadata": {},
   "source": [
    "## Loading and working with OME-Zarr data"
   ]
  },
  {
   "cell_type": "markdown",
   "id": "e7a3fef4",
   "metadata": {},
   "source": [
    "In this section we'll look at:\n",
    "\n",
    "* Loading OME-Zarr data from remote locations\n",
    "* Understanding the shape of the data we have loaded\n",
    "* The difference between \"lazy\" and full loading"
   ]
  },
  {
   "cell_type": "code",
   "execution_count": null,
   "id": "28f39473",
   "metadata": {},
   "outputs": [],
   "source": [
    "import dask.array as da"
   ]
  },
  {
   "cell_type": "code",
   "execution_count": null,
   "id": "c3f65407",
   "metadata": {},
   "outputs": [],
   "source": [
    "def load_ome_zarr_from_uri(uri, path_key='0'):\n",
    "    array_uri = f\"{uri}/{path_key}\"\n",
    "    \n",
    "    return da.from_zarr(array_uri)"
   ]
  },
  {
   "cell_type": "markdown",
   "id": "d15211a1",
   "metadata": {},
   "source": [
    "Let's look at three differenrt examples, one from the SSBD (Systems Science of Biological Dynamics), one from the Image Data Resource (IDR), and one from the BioImage Archive (BIA). We'll see how we can use the same access mechanisms for different data repositories."
   ]
  },
  {
   "cell_type": "markdown",
   "id": "f006fbf9",
   "metadata": {},
   "source": [
    "### 98-Morita-ToothEpiCellDyn (SSBD:database)\n",
    "\n",
    "* Entry page: https://ssbd.riken.jp/database/project/98/\n",
    "* Publication: https://journals.plos.org/plosone/article?id=10.1371/journal.pone.0161336"
   ]
  },
  {
   "cell_type": "code",
   "execution_count": null,
   "id": "b1b40327",
   "metadata": {},
   "outputs": [],
   "source": [
    "ssbd_uri = \"https://ssbd.riken.jp/100118-dcacbb41/zarr/v0.4/fig2ab_trajectory_epithelialcell.zarr\""
   ]
  },
  {
   "cell_type": "markdown",
   "id": "65acc786",
   "metadata": {},
   "source": [
    "### S-BIAD634 (BioImage Archive)\n",
    "\n",
    "* Entry page: https://www.ebi.ac.uk/biostudies/BioImages/studies/S-BIAD634\n",
    "* Publication: https://www.nature.com/articles/s41597-020-00608-w"
   ]
  },
  {
   "cell_type": "code",
   "execution_count": null,
   "id": "0d168464",
   "metadata": {},
   "outputs": [],
   "source": [
    "bia_uri = \"https://uk1s3.embassy.ebi.ac.uk/bia-integrator-data/S-BIAD634/15e5f46d-369b-49cf-9fda-15c0d0ed67ab/15e5f46d-369b-49cf-9fda-15c0d0ed67ab.zarr/0\""
   ]
  },
  {
   "cell_type": "markdown",
   "id": "c4f8d671",
   "metadata": {},
   "source": [
    "### idr0062 (Image Data Resource)\n",
    "\n",
    "* Entry page: https://idr.openmicroscopy.org/webclient/?show=project-801\n",
    "* Publication: https://pubmed.ncbi.nlm.nih.gov/31398189/"
   ]
  },
  {
   "cell_type": "code",
   "execution_count": null,
   "id": "c6012d77",
   "metadata": {},
   "outputs": [],
   "source": [
    "idr_uri = \"https://uk1s3.embassy.ebi.ac.uk/idr/zarr/v0.1/6001247.zarr\""
   ]
  },
  {
   "cell_type": "code",
   "execution_count": null,
   "id": "91ae874e",
   "metadata": {},
   "outputs": [],
   "source": [
    "uris = [ssbd_uri, bia_uri, idr_uri]"
   ]
  },
  {
   "cell_type": "code",
   "execution_count": null,
   "id": "7279fdaf",
   "metadata": {},
   "outputs": [],
   "source": [
    "idr_zarr = load_ome_zarr_from_uri(uri)"
   ]
  },
  {
   "cell_type": "markdown",
   "id": "7b36ee3d",
   "metadata": {},
   "source": [
    "### Exercise: Load all three of the OME-Zarr files"
   ]
  },
  {
   "cell_type": "markdown",
   "id": "b3b8e928",
   "metadata": {},
   "source": [
    "### Understanding what data we have loaded"
   ]
  },
  {
   "cell_type": "code",
   "execution_count": null,
   "id": "e4ad435a",
   "metadata": {},
   "outputs": [],
   "source": [
    "idr_zarr"
   ]
  },
  {
   "cell_type": "code",
   "execution_count": null,
   "id": "00e05a89",
   "metadata": {},
   "outputs": [],
   "source": [
    "load_ome_zarr_from_uri(ssbd_uri)"
   ]
  },
  {
   "cell_type": "code",
   "execution_count": null,
   "id": "53af1104",
   "metadata": {},
   "outputs": [],
   "source": [
    "load_ome_zarr_from_uri(bia_uri)"
   ]
  },
  {
   "cell_type": "markdown",
   "id": "52ce50a1",
   "metadata": {},
   "source": [
    "### \"Lazy\" vs \"full\" loading\n",
    "\n",
    "When we initially \"load\" the OME-Zarr image, what we're actually doing is getting the shape and location of the image arrays. We don't load all of the binary data until we need to."
   ]
  },
  {
   "cell_type": "code",
   "execution_count": null,
   "id": "bbbe0bad",
   "metadata": {},
   "outputs": [],
   "source": [
    "%%time\n",
    "ssbd_array = load_ome_zarr_from_uri(ssbd_uri)"
   ]
  },
  {
   "cell_type": "code",
   "execution_count": null,
   "id": "ed3ce7a1",
   "metadata": {},
   "outputs": [],
   "source": [
    "%%time\n",
    "ssbd_array = load_ome_zarr_from_uri(ssbd_uri)"
   ]
  },
  {
   "cell_type": "code",
   "execution_count": null,
   "id": "e897cf5b",
   "metadata": {},
   "outputs": [],
   "source": [
    "%%time\n",
    "idr_array = load_ome_zarr_from_uri(idr_uri)"
   ]
  },
  {
   "cell_type": "code",
   "execution_count": null,
   "id": "0c16bc81",
   "metadata": {},
   "outputs": [],
   "source": [
    "%%time\n",
    "idr_array = load_ome_zarr_from_uri(idr_uri)"
   ]
  },
  {
   "cell_type": "code",
   "execution_count": null,
   "id": "6ce68144",
   "metadata": {},
   "outputs": [],
   "source": [
    "%%time\n",
    "bia_array = load_ome_zarr_from_uri(bia_uri)"
   ]
  },
  {
   "cell_type": "code",
   "execution_count": null,
   "id": "6e33c178",
   "metadata": {},
   "outputs": [],
   "source": [
    "%%time\n",
    "bia_array = load_ome_zarr_from_uri(bia_uri)"
   ]
  },
  {
   "cell_type": "code",
   "execution_count": null,
   "id": "b4b9bcc7",
   "metadata": {},
   "outputs": [],
   "source": [
    "%%time\n",
    "full_array = bia_array.compute()"
   ]
  },
  {
   "cell_type": "code",
   "execution_count": null,
   "id": "adbcdaae",
   "metadata": {},
   "outputs": [],
   "source": [
    "%%time\n",
    "full_array = idr_array.compute()"
   ]
  },
  {
   "cell_type": "code",
   "execution_count": null,
   "id": "48022e5d",
   "metadata": {},
   "outputs": [],
   "source": [
    "%%time\n",
    "full_array = idr_array.compute()"
   ]
  },
  {
   "cell_type": "markdown",
   "id": "95289d89",
   "metadata": {},
   "source": [
    "## Visualising OME-Zarr images\n",
    "\n",
    "Now we've looked at loading, let's examine how we can visualise these images. First we'll define two helper functions:"
   ]
  },
  {
   "cell_type": "code",
   "execution_count": null,
   "id": "9cf2d4f1",
   "metadata": {},
   "outputs": [],
   "source": [
    "from PIL import Image\n",
    "import numpy as np\n",
    "from matplotlib import pyplot as plt\n",
    "\n",
    "def select_single_plane(array, t, z, c):\n",
    "    \"\"\"Select a single plane from a lazy array, load and return it.\"\"\"\n",
    "    \n",
    "    return array[t, c, z, :, :].compute()\n",
    "\n",
    "\n",
    "def scale_to_uint8(array):\n",
    "    \"\"\"Given an input array, convert to uint8, including scaling to fill the\n",
    "    0-255 range. \n",
    "    \n",
    "    Primarily used to convert general numpy arrays into an image rendering\n",
    "    suitable dtype.\"\"\"\n",
    "\n",
    "    scaled = array.astype(np.float32)\n",
    "\n",
    "    if scaled.max() - scaled.min() == 0:\n",
    "        return np.zeros(array.shape, dtype=np.uint8)\n",
    "\n",
    "    scaled = 255 * (scaled - scaled.min()) / (scaled.max() - scaled.min())\n",
    "\n",
    "    return scaled.astype(np.uint8)"
   ]
  },
  {
   "cell_type": "code",
   "execution_count": null,
   "id": "2e16b5a9",
   "metadata": {},
   "outputs": [],
   "source": [
    "single_plane_bia = select_single_plane(bia_array, t=0, z=0, c=0)"
   ]
  },
  {
   "cell_type": "code",
   "execution_count": null,
   "id": "98fdfcdf",
   "metadata": {},
   "outputs": [],
   "source": [
    "Image.fromarray(single_plane_bia)"
   ]
  },
  {
   "cell_type": "code",
   "execution_count": null,
   "id": "4dd2cd91",
   "metadata": {},
   "outputs": [],
   "source": [
    "size_t, size_c, size_z, size_y, size_x = idr_array.shape"
   ]
  },
  {
   "cell_type": "code",
   "execution_count": null,
   "id": "b0efbc7e",
   "metadata": {},
   "outputs": [],
   "source": [
    "z = 100"
   ]
  },
  {
   "cell_type": "code",
   "execution_count": null,
   "id": "c8990f69",
   "metadata": {},
   "outputs": [],
   "source": [
    "single_plane_idr = select_single_plane(idr_array, t=0, z=z, c=1)"
   ]
  },
  {
   "cell_type": "code",
   "execution_count": null,
   "id": "acaa190f",
   "metadata": {},
   "outputs": [],
   "source": [
    "Image.fromarray(scale_to_uint8(single_plane_idr))"
   ]
  },
  {
   "cell_type": "code",
   "execution_count": null,
   "id": "ffea4c62",
   "metadata": {},
   "outputs": [],
   "source": [
    "single_plane_ssbd = select_single_plane(ssbd_array, t=100, z=20, c=0)"
   ]
  },
  {
   "cell_type": "code",
   "execution_count": null,
   "id": "04275bfc",
   "metadata": {},
   "outputs": [],
   "source": [
    "Image.fromarray(scale_to_uint8(single_plane))"
   ]
  },
  {
   "cell_type": "code",
   "execution_count": null,
   "id": "ff9ecd01",
   "metadata": {},
   "outputs": [],
   "source": [
    "plt.imshow(single_plane, cmap='gray')\n",
    "plt.axis('off')"
   ]
  },
  {
   "cell_type": "code",
   "execution_count": null,
   "id": "eb003231",
   "metadata": {},
   "outputs": [],
   "source": [
    "plt.figure()\n",
    "fig, axes = plt.subplots(1, 3)\n",
    "axes[0].imshow(single_plane_bia, cmap='gray')\n",
    "axes[1].imshow(single_plane_idr, cmap='gray')\n",
    "axes[2].imshow(single_plane_ssbd, cmap='gray')\n"
   ]
  },
  {
   "cell_type": "code",
   "execution_count": null,
   "id": "e7aa9e17",
   "metadata": {},
   "outputs": [],
   "source": [
    "%load_ext autoreload\n",
    "%autoreload 2\n",
    "\n",
    "import sys; sys.path.append(\"/Users/matthewh/projects/bia-explorer/\")\n",
    "\n",
    "from bia_explorer.rendering import generate_padded_thumbnail_from_ngff_uri"
   ]
  },
  {
   "cell_type": "code",
   "execution_count": null,
   "id": "536702d4",
   "metadata": {},
   "outputs": [],
   "source": [
    "generate_padded_thumbnail_from_ngff_uri(ssbd_uri, dims=(512, 512))"
   ]
  },
  {
   "cell_type": "markdown",
   "id": "b8c0be80",
   "metadata": {},
   "source": [
    "### Making a movie"
   ]
  },
  {
   "cell_type": "code",
   "execution_count": null,
   "id": "fb67b968",
   "metadata": {},
   "outputs": [],
   "source": [
    "!pip install --quiet microfilm"
   ]
  },
  {
   "cell_type": "code",
   "execution_count": null,
   "id": "d8a37df9",
   "metadata": {},
   "outputs": [],
   "source": [
    "from microfilm import microanim"
   ]
  },
  {
   "cell_type": "code",
   "execution_count": null,
   "id": "1a626748",
   "metadata": {},
   "outputs": [],
   "source": [
    "ssbd_downsampled = load_ome_zarr_from_uri(ssbd_uri, path_key='1')"
   ]
  },
  {
   "cell_type": "code",
   "execution_count": null,
   "id": "1b25bd7d",
   "metadata": {},
   "outputs": [],
   "source": [
    "z = 20\n",
    "selected_z_plane = ssbd_downsampled[:,:,z,:,:].compute()"
   ]
  },
  {
   "cell_type": "code",
   "execution_count": null,
   "id": "49fe2beb",
   "metadata": {},
   "outputs": [],
   "source": [
    "transposed = selected_z_plane.transpose([1, 0, 2, 3])\n",
    "expanded_plane = np.expand_dims(single_plane, axis=2)"
   ]
  },
  {
   "cell_type": "code",
   "execution_count": null,
   "id": "f441315d",
   "metadata": {
    "scrolled": true
   },
   "outputs": [],
   "source": [
    "anim = microanim.Microanim(data=transposed, cmaps=['pure_green', 'pure_red'], fig_scaling=5)\n",
    "anim.ui"
   ]
  },
  {
   "cell_type": "code",
   "execution_count": null,
   "id": "f96b5367",
   "metadata": {},
   "outputs": [],
   "source": [
    "import imageio\n",
    "from pathlib import Path\n",
    "\n",
    "def save_movie(anim_object, movie_name, duration=20, fps=20, quality=5, format=None):\n",
    "        \"\"\"Save a movie\n",
    "        \n",
    "        Parameters\n",
    "        ----------\n",
    "        movie_name: str or path object\n",
    "            where to save the movie\n",
    "        fps: int\n",
    "            frames per second\n",
    "        quality: int\n",
    "            quality of images (see imageio)\n",
    "        format: str\n",
    "            format for export\n",
    "        \"\"\"\n",
    "\n",
    "        path_obj = Path(movie_name)\n",
    "\n",
    "        if path_obj.suffix in [\".mov\", \".avi\", \".mpg\", \".mpeg\", \".mp4\", \".mkv\", \".wmv\"]:\n",
    "            writer = imageio.get_writer(\n",
    "                path_obj,\n",
    "                fps=fps,\n",
    "                quality=quality,\n",
    "                format=format,\n",
    "            )\n",
    "        else:\n",
    "            writer = imageio.get_writer(path_obj, duration=duration, format=format)\n",
    "\n",
    "        for t in range(anim_object.max_time):\n",
    "            anim_object.update_animation(t)\n",
    "            anim_object.fig.canvas.draw()\n",
    "            buf = np.frombuffer(anim_object.fig.canvas.tostring_rgb(), dtype=np.uint8 )\n",
    "            w,h = map(int, anim_object.fig.canvas.renderer.get_canvas_width_height())\n",
    "            buf.shape = (h, w, 3)\n",
    "            writer.append_data(buf)\n",
    "            \n",
    "        writer.close()"
   ]
  },
  {
   "cell_type": "code",
   "execution_count": null,
   "id": "0663f78a",
   "metadata": {},
   "outputs": [],
   "source": [
    "output_fpath = \"../ssbd-test.gif\"\n",
    "save_movie(anim, output_fpath)"
   ]
  },
  {
   "cell_type": "code",
   "execution_count": null,
   "id": "638975b7",
   "metadata": {},
   "outputs": [],
   "source": [
    "from IPython.display import Image as ipyImage\n",
    "\n",
    "with open(output_fpath, \"rb\") as fh:\n",
    "    im = ipyImage(data=fh.read())"
   ]
  },
  {
   "cell_type": "code",
   "execution_count": null,
   "id": "b38d6bba",
   "metadata": {},
   "outputs": [],
   "source": [
    "im"
   ]
  },
  {
   "cell_type": "markdown",
   "id": "806f0665",
   "metadata": {},
   "source": [
    "## Computing on OME-Zarr data\n",
    "\n",
    "In this section, we'll look at:\n",
    "\n",
    "* How we can run a cutting-edge segmentation algorithm (Cellpose) on OME-Zarr data\n",
    "* How standardised access makes this easy to repeat across repositories\n",
    "* Where reference segmentations exist, how we can compare"
   ]
  },
  {
   "cell_type": "code",
   "execution_count": null,
   "id": "3333dedd",
   "metadata": {},
   "outputs": [],
   "source": [
    "from cellpose import models, plot"
   ]
  },
  {
   "cell_type": "code",
   "execution_count": null,
   "id": "3e850743",
   "metadata": {},
   "outputs": [],
   "source": [
    "model = models.Cellpose(gpu=False, model_type='cyto')"
   ]
  },
  {
   "cell_type": "code",
   "execution_count": null,
   "id": "fdd46fb3",
   "metadata": {},
   "outputs": [],
   "source": [
    "cellpose_masks_idr, flows, styles, diams = model.eval(single_plane_idr, diameter=None, channels=[0, 0])"
   ]
  },
  {
   "cell_type": "code",
   "execution_count": null,
   "id": "1c7cc2fc",
   "metadata": {},
   "outputs": [],
   "source": [
    "cellpose_masks_bia, flows, styles, diams = model.eval(single_plane_bia, diameter=None, channels=[0, 0])"
   ]
  },
  {
   "cell_type": "code",
   "execution_count": null,
   "id": "d125c6f1",
   "metadata": {},
   "outputs": [],
   "source": [
    "fig = plt.figure(figsize=(10, 10))\n",
    "plt.subplot(121)\n",
    "plt.imshow(cellpose_masks_bia)"
   ]
  },
  {
   "cell_type": "code",
   "execution_count": null,
   "id": "a84b050c",
   "metadata": {},
   "outputs": [],
   "source": [
    "cellpose_masks_ssbd, flows, styles, diams = model.eval(single_plane_ssbd, diameter=None, channels=[0, 0])"
   ]
  },
  {
   "cell_type": "code",
   "execution_count": null,
   "id": "61976a56",
   "metadata": {},
   "outputs": [],
   "source": [
    "fig = plt.figure(figsize=(10, 10))\n",
    "plt.subplot(121)\n",
    "plt.imshow(cellpose_masks)"
   ]
  },
  {
   "cell_type": "code",
   "execution_count": null,
   "id": "917ea547",
   "metadata": {},
   "outputs": [],
   "source": [
    "plot_array = plot.mask_overlay(single_plane_ssbd, cellpose_masks_ssbd)"
   ]
  },
  {
   "cell_type": "code",
   "execution_count": null,
   "id": "99046a71",
   "metadata": {},
   "outputs": [],
   "source": [
    "Image.fromarray(plot_array)"
   ]
  },
  {
   "cell_type": "markdown",
   "id": "5413dcde",
   "metadata": {},
   "source": [
    "### Comparing with reference segmentation masks\n",
    "\n",
    "For two of these images, we also have access to reference \"ground truth\" segmentations. Let's look at how we can load and visualise them."
   ]
  },
  {
   "cell_type": "code",
   "execution_count": null,
   "id": "8bf38990",
   "metadata": {},
   "outputs": [],
   "source": [
    "bia_labels_uri = \"https://uk1s3.embassy.ebi.ac.uk/bia-integrator-data/S-BIAD634/906e2ace-8e99-4841-89e6-f95983632896/906e2ace-8e99-4841-89e6-f95983632896.zarr/0\""
   ]
  },
  {
   "cell_type": "code",
   "execution_count": null,
   "id": "9d333e93",
   "metadata": {},
   "outputs": [],
   "source": [
    "bia_labels_image = load_ome_zarr_from_uri(bia_labels_uri)"
   ]
  },
  {
   "cell_type": "code",
   "execution_count": null,
   "id": "5cf852be",
   "metadata": {},
   "outputs": [],
   "source": [
    "single_plane_bia_labels = select_single_plane(bia_labels_image, 0, 0, 0)"
   ]
  },
  {
   "cell_type": "code",
   "execution_count": null,
   "id": "c986ee63",
   "metadata": {},
   "outputs": [],
   "source": [
    "Image.fromarray(scale_to_uint8(single_plane_bia_labels))"
   ]
  },
  {
   "cell_type": "code",
   "execution_count": null,
   "id": "5aca4724",
   "metadata": {},
   "outputs": [],
   "source": [
    "plt.figure()\n",
    "fig, axes = plt.subplots(1, 2)\n",
    "axes[0].imshow(cellpose_masks_bia)\n",
    "axes[1].imshow(single_plane_bia_labels)\n"
   ]
  },
  {
   "cell_type": "code",
   "execution_count": null,
   "id": "da38ae25",
   "metadata": {},
   "outputs": [],
   "source": [
    "idr_labels_uri = \"https://uk1s3.embassy.ebi.ac.uk/idr/zarr/v0.1/6001247.zarr/labels\""
   ]
  },
  {
   "cell_type": "code",
   "execution_count": null,
   "id": "a068759a",
   "metadata": {},
   "outputs": [],
   "source": [
    "idr_labels_image = load_ome_zarr_from_uri(idr_labels_uri)"
   ]
  },
  {
   "cell_type": "code",
   "execution_count": null,
   "id": "b7579b66",
   "metadata": {},
   "outputs": [],
   "source": [
    "single_plane_idr_labels = select_single_plane(idr_labels_image, 0, z, 0)"
   ]
  },
  {
   "cell_type": "code",
   "execution_count": null,
   "id": "4375d4b6",
   "metadata": {},
   "outputs": [],
   "source": [
    "plt.figure()\n",
    "fig, axes = plt.subplots(1, 2)\n",
    "axes[0].imshow(cellpose_masks_idr)\n",
    "axes[1].imshow(single_plane_idr_labels)\n"
   ]
  },
  {
   "cell_type": "code",
   "execution_count": null,
   "id": "c778b750",
   "metadata": {},
   "outputs": [],
   "source": [
    "\"\"\"https://kitware.github.io/itk-vtk-viewer/app/?fileToLoad=https://uk1s3.embassy.ebi.ac.uk/idr/zarr/v0.1/6001247.zarr\"\"\""
   ]
  },
  {
   "cell_type": "markdown",
   "id": "3f2d187e",
   "metadata": {},
   "source": [
    "## Lazy compute"
   ]
  },
  {
   "cell_type": "code",
   "execution_count": null,
   "id": "f48fac65",
   "metadata": {},
   "outputs": [],
   "source": []
  }
 ],
 "metadata": {
  "kernelspec": {
   "display_name": "Python 3 (ipykernel)",
   "language": "python",
   "name": "python3"
  },
  "language_info": {
   "codemirror_mode": {
    "name": "ipython",
    "version": 3
   },
   "file_extension": ".py",
   "mimetype": "text/x-python",
   "name": "python",
   "nbconvert_exporter": "python",
   "pygments_lexer": "ipython3",
   "version": "3.11.0"
  }
 },
 "nbformat": 4,
 "nbformat_minor": 5
}
